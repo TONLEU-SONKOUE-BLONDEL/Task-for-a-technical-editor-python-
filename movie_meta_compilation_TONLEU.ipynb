{
 "cells": [
  {
   "cell_type": "markdown",
   "id": "23cf6fe5",
   "metadata": {},
   "source": [
    "##                               ANSWER OF TASK1"
   ]
  },
  {
   "cell_type": "markdown",
   "id": "754deb5b",
   "metadata": {},
   "source": [
    "1.1.Download the data set movie_metadata.csv,which contains data about films from IMDb"
   ]
  },
  {
   "cell_type": "code",
   "execution_count": 96,
   "id": "cf67365f",
   "metadata": {},
   "outputs": [],
   "source": [
    "#1-1import  pandas and numpy library \n",
    "import pandas as pd\n",
    "import numpy as np\n",
    "file= r\"C:\\Users\\bc\\Documents\\test\\movie_metadata.csv\"#donnez le repertoire du fichier\n",
    "movie_metadata= pd.read_csv(file)"
   ]
  },
  {
   "cell_type": "code",
   "execution_count": 97,
   "id": "191a9ca6",
   "metadata": {},
   "outputs": [
    {
     "data": {
      "text/html": [
       "<div>\n",
       "<style scoped>\n",
       "    .dataframe tbody tr th:only-of-type {\n",
       "        vertical-align: middle;\n",
       "    }\n",
       "\n",
       "    .dataframe tbody tr th {\n",
       "        vertical-align: top;\n",
       "    }\n",
       "\n",
       "    .dataframe thead th {\n",
       "        text-align: right;\n",
       "    }\n",
       "</style>\n",
       "<table border=\"1\" class=\"dataframe\">\n",
       "  <thead>\n",
       "    <tr style=\"text-align: right;\">\n",
       "      <th></th>\n",
       "      <th>color</th>\n",
       "      <th>director_name</th>\n",
       "      <th>num_critic_for_reviews</th>\n",
       "      <th>duration</th>\n",
       "      <th>director_facebook_likes</th>\n",
       "      <th>actor_3_facebook_likes</th>\n",
       "      <th>actor_2_name</th>\n",
       "      <th>actor_1_facebook_likes</th>\n",
       "      <th>gross</th>\n",
       "      <th>genres</th>\n",
       "      <th>...</th>\n",
       "      <th>num_user_for_reviews</th>\n",
       "      <th>language</th>\n",
       "      <th>country</th>\n",
       "      <th>content_rating</th>\n",
       "      <th>budget</th>\n",
       "      <th>title_year</th>\n",
       "      <th>actor_2_facebook_likes</th>\n",
       "      <th>imdb_score</th>\n",
       "      <th>aspect_ratio</th>\n",
       "      <th>movie_facebook_likes</th>\n",
       "    </tr>\n",
       "  </thead>\n",
       "  <tbody>\n",
       "    <tr>\n",
       "      <th>0</th>\n",
       "      <td>Color</td>\n",
       "      <td>James Cameron</td>\n",
       "      <td>723.0</td>\n",
       "      <td>178.0</td>\n",
       "      <td>0.0</td>\n",
       "      <td>855.0</td>\n",
       "      <td>Joel David Moore</td>\n",
       "      <td>1000.0</td>\n",
       "      <td>760505847.0</td>\n",
       "      <td>Action|Adventure|Fantasy|Sci-Fi</td>\n",
       "      <td>...</td>\n",
       "      <td>3054.0</td>\n",
       "      <td>English</td>\n",
       "      <td>USA</td>\n",
       "      <td>PG-13</td>\n",
       "      <td>237000000.0$</td>\n",
       "      <td>2009.0</td>\n",
       "      <td>936.0</td>\n",
       "      <td>7.9</td>\n",
       "      <td>1.78</td>\n",
       "      <td>33000</td>\n",
       "    </tr>\n",
       "    <tr>\n",
       "      <th>1</th>\n",
       "      <td>Color</td>\n",
       "      <td>Gore Verbinski</td>\n",
       "      <td>302.0</td>\n",
       "      <td>169.0</td>\n",
       "      <td>563.0</td>\n",
       "      <td>1000.0</td>\n",
       "      <td>Orlando Bloom</td>\n",
       "      <td>40000.0</td>\n",
       "      <td>309404152.0</td>\n",
       "      <td>Action|Adventure|Fantasy</td>\n",
       "      <td>...</td>\n",
       "      <td>1238.0</td>\n",
       "      <td>English</td>\n",
       "      <td>USA</td>\n",
       "      <td>PG-13</td>\n",
       "      <td>300000000.0$</td>\n",
       "      <td>2007.0</td>\n",
       "      <td>5000.0</td>\n",
       "      <td>7.1</td>\n",
       "      <td>2.35</td>\n",
       "      <td>0</td>\n",
       "    </tr>\n",
       "    <tr>\n",
       "      <th>2</th>\n",
       "      <td>Color</td>\n",
       "      <td>Sam Mendes</td>\n",
       "      <td>602.0</td>\n",
       "      <td>148.0</td>\n",
       "      <td>0.0</td>\n",
       "      <td>161.0</td>\n",
       "      <td>Rory Kinnear</td>\n",
       "      <td>11000.0</td>\n",
       "      <td>200074175.0</td>\n",
       "      <td>Action|Adventure|Thriller</td>\n",
       "      <td>...</td>\n",
       "      <td>994.0</td>\n",
       "      <td>English</td>\n",
       "      <td>UK</td>\n",
       "      <td>PG-13</td>\n",
       "      <td>245000000.0$</td>\n",
       "      <td>2015.0</td>\n",
       "      <td>393.0</td>\n",
       "      <td>6.8</td>\n",
       "      <td>2.35</td>\n",
       "      <td>85000</td>\n",
       "    </tr>\n",
       "    <tr>\n",
       "      <th>3</th>\n",
       "      <td>Color</td>\n",
       "      <td>Christopher Nolan</td>\n",
       "      <td>813.0</td>\n",
       "      <td>164.0</td>\n",
       "      <td>22000.0</td>\n",
       "      <td>23000.0</td>\n",
       "      <td>Christian Bale</td>\n",
       "      <td>27000.0</td>\n",
       "      <td>448130642.0</td>\n",
       "      <td>Action|Thriller</td>\n",
       "      <td>...</td>\n",
       "      <td>2701.0</td>\n",
       "      <td>English</td>\n",
       "      <td>USA</td>\n",
       "      <td>PG-13</td>\n",
       "      <td>250000000.0$</td>\n",
       "      <td>2012.0</td>\n",
       "      <td>23000.0</td>\n",
       "      <td>8.5</td>\n",
       "      <td>2.35</td>\n",
       "      <td>164000</td>\n",
       "    </tr>\n",
       "    <tr>\n",
       "      <th>4</th>\n",
       "      <td>NaN</td>\n",
       "      <td>Doug Walker</td>\n",
       "      <td>NaN</td>\n",
       "      <td>NaN</td>\n",
       "      <td>131.0</td>\n",
       "      <td>NaN</td>\n",
       "      <td>Rob Walker</td>\n",
       "      <td>131.0</td>\n",
       "      <td>NaN</td>\n",
       "      <td>Documentary</td>\n",
       "      <td>...</td>\n",
       "      <td>NaN</td>\n",
       "      <td>NaN</td>\n",
       "      <td>NaN</td>\n",
       "      <td>NaN</td>\n",
       "      <td>0.0$</td>\n",
       "      <td>NaN</td>\n",
       "      <td>12.0</td>\n",
       "      <td>7.1</td>\n",
       "      <td>NaN</td>\n",
       "      <td>0</td>\n",
       "    </tr>\n",
       "    <tr>\n",
       "      <th>...</th>\n",
       "      <td>...</td>\n",
       "      <td>...</td>\n",
       "      <td>...</td>\n",
       "      <td>...</td>\n",
       "      <td>...</td>\n",
       "      <td>...</td>\n",
       "      <td>...</td>\n",
       "      <td>...</td>\n",
       "      <td>...</td>\n",
       "      <td>...</td>\n",
       "      <td>...</td>\n",
       "      <td>...</td>\n",
       "      <td>...</td>\n",
       "      <td>...</td>\n",
       "      <td>...</td>\n",
       "      <td>...</td>\n",
       "      <td>...</td>\n",
       "      <td>...</td>\n",
       "      <td>...</td>\n",
       "      <td>...</td>\n",
       "      <td>...</td>\n",
       "    </tr>\n",
       "    <tr>\n",
       "      <th>5038</th>\n",
       "      <td>Color</td>\n",
       "      <td>Scott Smith</td>\n",
       "      <td>1.0</td>\n",
       "      <td>87.0</td>\n",
       "      <td>2.0</td>\n",
       "      <td>318.0</td>\n",
       "      <td>Daphne Zuniga</td>\n",
       "      <td>637.0</td>\n",
       "      <td>NaN</td>\n",
       "      <td>Comedy|Drama</td>\n",
       "      <td>...</td>\n",
       "      <td>6.0</td>\n",
       "      <td>English</td>\n",
       "      <td>Canada</td>\n",
       "      <td>NaN</td>\n",
       "      <td>0.0$</td>\n",
       "      <td>2013.0</td>\n",
       "      <td>470.0</td>\n",
       "      <td>7.7</td>\n",
       "      <td>NaN</td>\n",
       "      <td>84</td>\n",
       "    </tr>\n",
       "    <tr>\n",
       "      <th>5039</th>\n",
       "      <td>Color</td>\n",
       "      <td>NaN</td>\n",
       "      <td>43.0</td>\n",
       "      <td>43.0</td>\n",
       "      <td>NaN</td>\n",
       "      <td>319.0</td>\n",
       "      <td>Valorie Curry</td>\n",
       "      <td>841.0</td>\n",
       "      <td>NaN</td>\n",
       "      <td>Crime|Drama|Mystery|Thriller</td>\n",
       "      <td>...</td>\n",
       "      <td>359.0</td>\n",
       "      <td>English</td>\n",
       "      <td>USA</td>\n",
       "      <td>TV-14</td>\n",
       "      <td>0.0$</td>\n",
       "      <td>NaN</td>\n",
       "      <td>593.0</td>\n",
       "      <td>7.5</td>\n",
       "      <td>16.00</td>\n",
       "      <td>32000</td>\n",
       "    </tr>\n",
       "    <tr>\n",
       "      <th>5040</th>\n",
       "      <td>Color</td>\n",
       "      <td>Benjamin Roberds</td>\n",
       "      <td>13.0</td>\n",
       "      <td>76.0</td>\n",
       "      <td>0.0</td>\n",
       "      <td>0.0</td>\n",
       "      <td>Maxwell Moody</td>\n",
       "      <td>0.0</td>\n",
       "      <td>NaN</td>\n",
       "      <td>Drama|Horror|Thriller</td>\n",
       "      <td>...</td>\n",
       "      <td>3.0</td>\n",
       "      <td>English</td>\n",
       "      <td>USA</td>\n",
       "      <td>NaN</td>\n",
       "      <td>1400.0$</td>\n",
       "      <td>2013.0</td>\n",
       "      <td>0.0</td>\n",
       "      <td>6.3</td>\n",
       "      <td>NaN</td>\n",
       "      <td>16</td>\n",
       "    </tr>\n",
       "    <tr>\n",
       "      <th>5041</th>\n",
       "      <td>Color</td>\n",
       "      <td>Daniel Hsia</td>\n",
       "      <td>14.0</td>\n",
       "      <td>100.0</td>\n",
       "      <td>0.0</td>\n",
       "      <td>489.0</td>\n",
       "      <td>Daniel Henney</td>\n",
       "      <td>946.0</td>\n",
       "      <td>10443.0</td>\n",
       "      <td>Comedy|Drama|Romance</td>\n",
       "      <td>...</td>\n",
       "      <td>9.0</td>\n",
       "      <td>English</td>\n",
       "      <td>USA</td>\n",
       "      <td>PG-13</td>\n",
       "      <td>0.0$</td>\n",
       "      <td>2012.0</td>\n",
       "      <td>719.0</td>\n",
       "      <td>6.3</td>\n",
       "      <td>2.35</td>\n",
       "      <td>660</td>\n",
       "    </tr>\n",
       "    <tr>\n",
       "      <th>5042</th>\n",
       "      <td>Color</td>\n",
       "      <td>Jon Gunn</td>\n",
       "      <td>43.0</td>\n",
       "      <td>90.0</td>\n",
       "      <td>16.0</td>\n",
       "      <td>16.0</td>\n",
       "      <td>Brian Herzlinger</td>\n",
       "      <td>86.0</td>\n",
       "      <td>85222.0</td>\n",
       "      <td>Documentary</td>\n",
       "      <td>...</td>\n",
       "      <td>84.0</td>\n",
       "      <td>English</td>\n",
       "      <td>USA</td>\n",
       "      <td>PG</td>\n",
       "      <td>1100.0$</td>\n",
       "      <td>2004.0</td>\n",
       "      <td>23.0</td>\n",
       "      <td>6.6</td>\n",
       "      <td>1.85</td>\n",
       "      <td>456</td>\n",
       "    </tr>\n",
       "  </tbody>\n",
       "</table>\n",
       "<p>5043 rows × 28 columns</p>\n",
       "</div>"
      ],
      "text/plain": [
       "      color      director_name  num_critic_for_reviews  duration  \\\n",
       "0     Color      James Cameron                   723.0     178.0   \n",
       "1     Color     Gore Verbinski                   302.0     169.0   \n",
       "2     Color         Sam Mendes                   602.0     148.0   \n",
       "3     Color  Christopher Nolan                   813.0     164.0   \n",
       "4       NaN        Doug Walker                     NaN       NaN   \n",
       "...     ...                ...                     ...       ...   \n",
       "5038  Color        Scott Smith                     1.0      87.0   \n",
       "5039  Color                NaN                    43.0      43.0   \n",
       "5040  Color   Benjamin Roberds                    13.0      76.0   \n",
       "5041  Color        Daniel Hsia                    14.0     100.0   \n",
       "5042  Color           Jon Gunn                    43.0      90.0   \n",
       "\n",
       "      director_facebook_likes  actor_3_facebook_likes      actor_2_name  \\\n",
       "0                         0.0                   855.0  Joel David Moore   \n",
       "1                       563.0                  1000.0     Orlando Bloom   \n",
       "2                         0.0                   161.0      Rory Kinnear   \n",
       "3                     22000.0                 23000.0    Christian Bale   \n",
       "4                       131.0                     NaN        Rob Walker   \n",
       "...                       ...                     ...               ...   \n",
       "5038                      2.0                   318.0     Daphne Zuniga   \n",
       "5039                      NaN                   319.0     Valorie Curry   \n",
       "5040                      0.0                     0.0     Maxwell Moody   \n",
       "5041                      0.0                   489.0     Daniel Henney   \n",
       "5042                     16.0                    16.0  Brian Herzlinger   \n",
       "\n",
       "      actor_1_facebook_likes        gross                           genres  \\\n",
       "0                     1000.0  760505847.0  Action|Adventure|Fantasy|Sci-Fi   \n",
       "1                    40000.0  309404152.0         Action|Adventure|Fantasy   \n",
       "2                    11000.0  200074175.0        Action|Adventure|Thriller   \n",
       "3                    27000.0  448130642.0                  Action|Thriller   \n",
       "4                      131.0          NaN                      Documentary   \n",
       "...                      ...          ...                              ...   \n",
       "5038                   637.0          NaN                     Comedy|Drama   \n",
       "5039                   841.0          NaN     Crime|Drama|Mystery|Thriller   \n",
       "5040                     0.0          NaN            Drama|Horror|Thriller   \n",
       "5041                   946.0      10443.0             Comedy|Drama|Romance   \n",
       "5042                    86.0      85222.0                      Documentary   \n",
       "\n",
       "      ... num_user_for_reviews language  country  content_rating  \\\n",
       "0     ...               3054.0  English      USA           PG-13   \n",
       "1     ...               1238.0  English      USA           PG-13   \n",
       "2     ...                994.0  English       UK           PG-13   \n",
       "3     ...               2701.0  English      USA           PG-13   \n",
       "4     ...                  NaN      NaN      NaN             NaN   \n",
       "...   ...                  ...      ...      ...             ...   \n",
       "5038  ...                  6.0  English   Canada             NaN   \n",
       "5039  ...                359.0  English      USA           TV-14   \n",
       "5040  ...                  3.0  English      USA             NaN   \n",
       "5041  ...                  9.0  English      USA           PG-13   \n",
       "5042  ...                 84.0  English      USA              PG   \n",
       "\n",
       "            budget  title_year actor_2_facebook_likes imdb_score  \\\n",
       "0     237000000.0$      2009.0                  936.0        7.9   \n",
       "1     300000000.0$      2007.0                 5000.0        7.1   \n",
       "2     245000000.0$      2015.0                  393.0        6.8   \n",
       "3     250000000.0$      2012.0                23000.0        8.5   \n",
       "4             0.0$         NaN                   12.0        7.1   \n",
       "...            ...         ...                    ...        ...   \n",
       "5038          0.0$      2013.0                  470.0        7.7   \n",
       "5039          0.0$         NaN                  593.0        7.5   \n",
       "5040       1400.0$      2013.0                    0.0        6.3   \n",
       "5041          0.0$      2012.0                  719.0        6.3   \n",
       "5042       1100.0$      2004.0                   23.0        6.6   \n",
       "\n",
       "      aspect_ratio movie_facebook_likes  \n",
       "0             1.78                33000  \n",
       "1             2.35                    0  \n",
       "2             2.35                85000  \n",
       "3             2.35               164000  \n",
       "4              NaN                    0  \n",
       "...            ...                  ...  \n",
       "5038           NaN                   84  \n",
       "5039         16.00                32000  \n",
       "5040           NaN                   16  \n",
       "5041          2.35                  660  \n",
       "5042          1.85                  456  \n",
       "\n",
       "[5043 rows x 28 columns]"
      ]
     },
     "execution_count": 97,
     "metadata": {},
     "output_type": "execute_result"
    }
   ],
   "source": [
    "movie_metadata"
   ]
  },
  {
   "cell_type": "markdown",
   "id": "1f5032ed",
   "metadata": {},
   "source": [
    "1.2-The duration column contains data on the film length. How many missing values are there in this column?"
   ]
  },
  {
   "cell_type": "code",
   "execution_count": 98,
   "id": "b8ecf30f",
   "metadata": {},
   "outputs": [
    {
     "data": {
      "text/plain": [
       "15"
      ]
     },
     "execution_count": 98,
     "metadata": {},
     "output_type": "execute_result"
    }
   ],
   "source": [
    "#1-2-nombre de valeurs manquantes dans la colonne \"duration\". La colonne duration a 15 valeurs manquantes\n",
    "movie_metadata['duration'].isna().sum()"
   ]
  },
  {
   "cell_type": "markdown",
   "id": "9d3380c3",
   "metadata": {},
   "source": [
    "There are **15** missing values in column duration"
   ]
  },
  {
   "cell_type": "code",
   "execution_count": 99,
   "id": "87ee09c0",
   "metadata": {},
   "outputs": [
    {
     "data": {
      "text/plain": [
       "color                         19\n",
       "director_name                104\n",
       "num_critic_for_reviews        50\n",
       "duration                      15\n",
       "director_facebook_likes      104\n",
       "actor_3_facebook_likes        23\n",
       "actor_2_name                  13\n",
       "actor_1_facebook_likes         7\n",
       "gross                        884\n",
       "genres                         0\n",
       "actor_1_name                   7\n",
       "movie_title                    0\n",
       "num_voted_users                0\n",
       "cast_total_facebook_likes      0\n",
       "actor_3_name                  23\n",
       "facenumber_in_poster          13\n",
       "plot_keywords                153\n",
       "movie_imdb_link                0\n",
       "num_user_for_reviews          21\n",
       "language                      12\n",
       "country                        5\n",
       "content_rating               303\n",
       "budget                         0\n",
       "title_year                   108\n",
       "actor_2_facebook_likes        13\n",
       "imdb_score                     0\n",
       "aspect_ratio                 329\n",
       "movie_facebook_likes           0\n",
       "dtype: int64"
      ]
     },
     "execution_count": 99,
     "metadata": {},
     "output_type": "execute_result"
    }
   ],
   "source": [
    "movie_metadata.isna().sum()"
   ]
  },
  {
   "cell_type": "markdown",
   "id": "b0a04e22",
   "metadata": {},
   "source": [
    "1.3 Replace the missing values in the duration column with the median value for this column"
   ]
  },
  {
   "cell_type": "code",
   "execution_count": 100,
   "id": "c4ba3d6c",
   "metadata": {},
   "outputs": [
    {
     "data": {
      "text/plain": [
       "0"
      ]
     },
     "execution_count": 100,
     "metadata": {},
     "output_type": "execute_result"
    }
   ],
   "source": [
    "movie_metadata_no_nan=movie_metadata.fillna(value={'duration':movie_metadata[\"duration\"].median()})\n",
    "movie_metadata_no_nan\n",
    "movie_metadata_no_nan['duration'].isna().sum()"
   ]
  },
  {
   "cell_type": "markdown",
   "id": "123d25d9",
   "metadata": {},
   "source": [
    "Now, duration have 0 missing value. we are using the fillna function"
   ]
  },
  {
   "cell_type": "markdown",
   "id": "19feac03",
   "metadata": {},
   "source": [
    "1.4 what is the average film length?Give the answer as a floating-point figure rounded to two decimal"
   ]
  },
  {
   "cell_type": "code",
   "execution_count": 101,
   "id": "1abc4359",
   "metadata": {},
   "outputs": [
    {
     "data": {
      "text/plain": [
       "107.19"
      ]
     },
     "execution_count": 101,
     "metadata": {},
     "output_type": "execute_result"
    }
   ],
   "source": [
    "average_length= round(movie_metadata_no_nan['duration'].mean(),2)\n",
    "average_length"
   ]
  },
  {
   "cell_type": "markdown",
   "id": "26ae31f6",
   "metadata": {},
   "source": [
    "Using the function mean, the average films length is **107.19**"
   ]
  },
  {
   "cell_type": "markdown",
   "id": "a872aa4e",
   "metadata": {},
   "source": [
    "1.5-create a movie_duration_category column, which will contain three category depending on the film length"
   ]
  },
  {
   "cell_type": "code",
   "execution_count": 102,
   "id": "90e42b49",
   "metadata": {},
   "outputs": [],
   "source": [
    "nv_val =[]\n",
    "for i in np.arange(len(movie_metadata_no_nan.index)):\n",
    "    if movie_metadata_no_nan.duration[i]<90:\n",
    "        nv_val.append(\"<90\")\n",
    "    elif movie_metadata_no_nan.duration[i]>=90 and movie_metadata_no_nan.duration[i]<=120:\n",
    "        nv_val.append(\"90-120\")\n",
    "    else:\n",
    "        nv_val.append(\">120\")"
   ]
  },
  {
   "cell_type": "code",
   "execution_count": 103,
   "id": "049eb1fd",
   "metadata": {},
   "outputs": [
    {
     "data": {
      "text/plain": [
       "0         >120\n",
       "1         >120\n",
       "2         >120\n",
       "3         >120\n",
       "4       90-120\n",
       "         ...  \n",
       "5038       <90\n",
       "5039       <90\n",
       "5040       <90\n",
       "5041    90-120\n",
       "5042    90-120\n",
       "Name: movie_duration_category, Length: 5043, dtype: object"
      ]
     },
     "execution_count": 103,
     "metadata": {},
     "output_type": "execute_result"
    }
   ],
   "source": [
    "movie_metadata_no_nan_new=movie_metadata_no_nan.assign(movie_duration_category=nv_val)\n",
    "movie_metadata_no_nan_new['movie_duration_category']"
   ]
  },
  {
   "cell_type": "markdown",
   "id": "a9d47741",
   "metadata": {},
   "source": [
    "1.6 Build a summary table for films released after 2000 (inclusively), to list the numbers of films"
   ]
  },
  {
   "cell_type": "code",
   "execution_count": 104,
   "id": "e6d01370",
   "metadata": {},
   "outputs": [
    {
     "name": "stdout",
     "output_type": "stream",
     "text": [
      "<class 'pandas.core.series.Series'>\n",
      "RangeIndex: 5043 entries, 0 to 5042\n",
      "Series name: title_year\n",
      "Non-Null Count  Dtype  \n",
      "--------------  -----  \n",
      "4935 non-null   float64\n",
      "dtypes: float64(1)\n",
      "memory usage: 39.5 KB\n"
     ]
    }
   ],
   "source": [
    "movie_metadata_no_nan_new[\"title_year\"].info()"
   ]
  },
  {
   "cell_type": "code",
   "execution_count": 105,
   "id": "51792025",
   "metadata": {},
   "outputs": [
    {
     "data": {
      "text/html": [
       "<div>\n",
       "<style scoped>\n",
       "    .dataframe tbody tr th:only-of-type {\n",
       "        vertical-align: middle;\n",
       "    }\n",
       "\n",
       "    .dataframe tbody tr th {\n",
       "        vertical-align: top;\n",
       "    }\n",
       "\n",
       "    .dataframe thead th {\n",
       "        text-align: right;\n",
       "    }\n",
       "</style>\n",
       "<table border=\"1\" class=\"dataframe\">\n",
       "  <thead>\n",
       "    <tr style=\"text-align: right;\">\n",
       "      <th>movie_duration_category</th>\n",
       "      <th>90-120</th>\n",
       "      <th>&lt;90</th>\n",
       "      <th>&gt;120</th>\n",
       "    </tr>\n",
       "    <tr>\n",
       "      <th>title_year</th>\n",
       "      <th></th>\n",
       "      <th></th>\n",
       "      <th></th>\n",
       "    </tr>\n",
       "  </thead>\n",
       "  <tbody>\n",
       "    <tr>\n",
       "      <th>2001.0</th>\n",
       "      <td>120</td>\n",
       "      <td>29</td>\n",
       "      <td>39</td>\n",
       "    </tr>\n",
       "    <tr>\n",
       "      <th>2002.0</th>\n",
       "      <td>146</td>\n",
       "      <td>36</td>\n",
       "      <td>27</td>\n",
       "    </tr>\n",
       "    <tr>\n",
       "      <th>2003.0</th>\n",
       "      <td>108</td>\n",
       "      <td>31</td>\n",
       "      <td>30</td>\n",
       "    </tr>\n",
       "    <tr>\n",
       "      <th>2004.0</th>\n",
       "      <td>142</td>\n",
       "      <td>30</td>\n",
       "      <td>42</td>\n",
       "    </tr>\n",
       "    <tr>\n",
       "      <th>2005.0</th>\n",
       "      <td>142</td>\n",
       "      <td>31</td>\n",
       "      <td>48</td>\n",
       "    </tr>\n",
       "    <tr>\n",
       "      <th>2006.0</th>\n",
       "      <td>146</td>\n",
       "      <td>40</td>\n",
       "      <td>53</td>\n",
       "    </tr>\n",
       "    <tr>\n",
       "      <th>2007.0</th>\n",
       "      <td>130</td>\n",
       "      <td>31</td>\n",
       "      <td>43</td>\n",
       "    </tr>\n",
       "    <tr>\n",
       "      <th>2008.0</th>\n",
       "      <td>160</td>\n",
       "      <td>29</td>\n",
       "      <td>36</td>\n",
       "    </tr>\n",
       "    <tr>\n",
       "      <th>2009.0</th>\n",
       "      <td>178</td>\n",
       "      <td>42</td>\n",
       "      <td>40</td>\n",
       "    </tr>\n",
       "    <tr>\n",
       "      <th>2010.0</th>\n",
       "      <td>171</td>\n",
       "      <td>26</td>\n",
       "      <td>33</td>\n",
       "    </tr>\n",
       "    <tr>\n",
       "      <th>2011.0</th>\n",
       "      <td>150</td>\n",
       "      <td>36</td>\n",
       "      <td>39</td>\n",
       "    </tr>\n",
       "    <tr>\n",
       "      <th>2012.0</th>\n",
       "      <td>139</td>\n",
       "      <td>41</td>\n",
       "      <td>41</td>\n",
       "    </tr>\n",
       "    <tr>\n",
       "      <th>2013.0</th>\n",
       "      <td>145</td>\n",
       "      <td>38</td>\n",
       "      <td>54</td>\n",
       "    </tr>\n",
       "    <tr>\n",
       "      <th>2014.0</th>\n",
       "      <td>171</td>\n",
       "      <td>36</td>\n",
       "      <td>45</td>\n",
       "    </tr>\n",
       "    <tr>\n",
       "      <th>2015.0</th>\n",
       "      <td>145</td>\n",
       "      <td>34</td>\n",
       "      <td>47</td>\n",
       "    </tr>\n",
       "    <tr>\n",
       "      <th>2016.0</th>\n",
       "      <td>79</td>\n",
       "      <td>8</td>\n",
       "      <td>19</td>\n",
       "    </tr>\n",
       "  </tbody>\n",
       "</table>\n",
       "</div>"
      ],
      "text/plain": [
       "movie_duration_category  90-120  <90  >120\n",
       "title_year                                \n",
       "2001.0                      120   29    39\n",
       "2002.0                      146   36    27\n",
       "2003.0                      108   31    30\n",
       "2004.0                      142   30    42\n",
       "2005.0                      142   31    48\n",
       "2006.0                      146   40    53\n",
       "2007.0                      130   31    43\n",
       "2008.0                      160   29    36\n",
       "2009.0                      178   42    40\n",
       "2010.0                      171   26    33\n",
       "2011.0                      150   36    39\n",
       "2012.0                      139   41    41\n",
       "2013.0                      145   38    54\n",
       "2014.0                      171   36    45\n",
       "2015.0                      145   34    47\n",
       "2016.0                       79    8    19"
      ]
     },
     "execution_count": 105,
     "metadata": {},
     "output_type": "execute_result"
    }
   ],
   "source": [
    "masque=movie_metadata_no_nan_new[\"title_year\"]>2000\n",
    "summary_movie=movie_metadata_no_nan_new[masque]\n",
    "summary_movie.groupby(['title_year','movie_duration_category'])['movie_duration_category'].aggregate('count').unstack()"
   ]
  },
  {
   "cell_type": "markdown",
   "id": "12c48dd5",
   "metadata": {},
   "source": [
    "1.7 how many films between  90 minutes and two hours long  where released in 2008?"
   ]
  },
  {
   "cell_type": "markdown",
   "id": "a7338810",
   "metadata": {},
   "source": [
    "**160** films  are released betweeen 90 minutes and 2 hours"
   ]
  },
  {
   "cell_type": "code",
   "execution_count": 106,
   "id": "138da021",
   "metadata": {},
   "outputs": [
    {
     "data": {
      "text/plain": [
       "0                  avatar|future|marine|native|paraplegic\n",
       "1       goddess|marriage ceremony|marriage proposal|pi...\n",
       "2                     bomb|espionage|sequel|spy|terrorist\n",
       "3       deception|imprisonment|lawlessness|police offi...\n",
       "4                                                     NaN\n",
       "                              ...                        \n",
       "5038               fraud|postal worker|prison|theft|trial\n",
       "5039         cult|fbi|hideout|prison escape|serial killer\n",
       "5040                                                  NaN\n",
       "5041                                                  NaN\n",
       "5042    actress name in title|crush|date|four word tit...\n",
       "Name: plot_keywords, Length: 5043, dtype: object"
      ]
     },
     "execution_count": 106,
     "metadata": {},
     "output_type": "execute_result"
    }
   ],
   "source": [
    "movie_metadata_no_nan_new[\"plot_keywords\"]"
   ]
  },
  {
   "cell_type": "markdown",
   "id": "663d31cc",
   "metadata": {},
   "source": [
    "1.8-Create a column called movie_plot_category,to contain four category depending on the key words in the column"
   ]
  },
  {
   "cell_type": "code",
   "execution_count": 107,
   "id": "ed1a5454",
   "metadata": {},
   "outputs": [],
   "source": [
    "nv_val2 =[]\n",
    "for i in np.arange(len(movie_metadata_no_nan_new.index)):\n",
    "    if \"love\" and \"death\" in str(movie_metadata_no_nan_new.plot_keywords[i]):\n",
    "        nv_val2.append(\"love_and_death\")\n",
    "    elif \"love\" in  str(movie_metadata_no_nan_new.plot_keywords[i]):\n",
    "        nv_val2.append(\"love\")\n",
    "    elif \"death\" in str(movie_metadata_no_nan_new.plot_keywords[i]):\n",
    "        nv_val2.append(\"death\")\n",
    "    else:\n",
    "        nv_val2.append(\"other\")"
   ]
  },
  {
   "cell_type": "code",
   "execution_count": 108,
   "id": "d990af01",
   "metadata": {},
   "outputs": [
    {
     "data": {
      "text/plain": [
       "0       other\n",
       "1       other\n",
       "2       other\n",
       "3       other\n",
       "4       other\n",
       "        ...  \n",
       "5038    other\n",
       "5039    other\n",
       "5040    other\n",
       "5041    other\n",
       "5042    other\n",
       "Name: movie_plot_category, Length: 5043, dtype: object"
      ]
     },
     "execution_count": 108,
     "metadata": {},
     "output_type": "execute_result"
    }
   ],
   "source": [
    "movie_metadata_no_nan_new2=movie_metadata_no_nan_new.assign(movie_plot_category=nv_val2)\n",
    "movie_metadata_no_nan_new2['movie_plot_category']"
   ]
  },
  {
   "cell_type": "markdown",
   "id": "96ca2936",
   "metadata": {},
   "source": [
    "1.9-Build a table to reflect the average rating of films depending on which movie_plot_category they belong to."
   ]
  },
  {
   "cell_type": "code",
   "execution_count": 109,
   "id": "cab55735",
   "metadata": {},
   "outputs": [
    {
     "data": {
      "text/html": [
       "<div>\n",
       "<style scoped>\n",
       "    .dataframe tbody tr th:only-of-type {\n",
       "        vertical-align: middle;\n",
       "    }\n",
       "\n",
       "    .dataframe tbody tr th {\n",
       "        vertical-align: top;\n",
       "    }\n",
       "\n",
       "    .dataframe thead th {\n",
       "        text-align: right;\n",
       "    }\n",
       "</style>\n",
       "<table border=\"1\" class=\"dataframe\">\n",
       "  <thead>\n",
       "    <tr style=\"text-align: right;\">\n",
       "      <th></th>\n",
       "      <th>mean</th>\n",
       "    </tr>\n",
       "    <tr>\n",
       "      <th>movie_plot_category</th>\n",
       "      <th></th>\n",
       "    </tr>\n",
       "  </thead>\n",
       "  <tbody>\n",
       "    <tr>\n",
       "      <th>love</th>\n",
       "      <td>6.58</td>\n",
       "    </tr>\n",
       "    <tr>\n",
       "      <th>love_and_death</th>\n",
       "      <td>6.53</td>\n",
       "    </tr>\n",
       "    <tr>\n",
       "      <th>other</th>\n",
       "      <td>6.43</td>\n",
       "    </tr>\n",
       "  </tbody>\n",
       "</table>\n",
       "</div>"
      ],
      "text/plain": [
       "                     mean\n",
       "movie_plot_category      \n",
       "love                 6.58\n",
       "love_and_death       6.53\n",
       "other                6.43"
      ]
     },
     "execution_count": 109,
     "metadata": {},
     "output_type": "execute_result"
    }
   ],
   "source": [
    "round(movie_metadata_no_nan_new2.groupby(['movie_plot_category'])['imdb_score'].agg(['mean']),2)"
   ]
  },
  {
   "cell_type": "markdown",
   "id": "3c36e07a",
   "metadata": {},
   "source": [
    "1.10-what is the avarage rating of film's budget  in  the love cathegory"
   ]
  },
  {
   "cell_type": "markdown",
   "id": "2275a1c6",
   "metadata": {},
   "source": [
    "The average rating of films in the \"love\" category is **6.58**"
   ]
  },
  {
   "cell_type": "markdown",
   "id": "dd33a4a1",
   "metadata": {},
   "source": [
    "1.11 what is the median budget for all the films listed"
   ]
  },
  {
   "cell_type": "code",
   "execution_count": 110,
   "id": "4552628c",
   "metadata": {},
   "outputs": [
    {
     "name": "stderr",
     "output_type": "stream",
     "text": [
      "C:\\Users\\bc\\AppData\\Local\\Temp\\ipykernel_10176\\924720371.py:1: FutureWarning: The default value of regex will change from True to False in a future version.\n",
      "  t= int(movie_metadata_no_nan_new2[\"budget\"].str.replace('\\W',\"\").median())\n"
     ]
    },
    {
     "data": {
      "text/plain": [
       "150000000"
      ]
     },
     "execution_count": 110,
     "metadata": {},
     "output_type": "execute_result"
    }
   ],
   "source": [
    "t= int(movie_metadata_no_nan_new2[\"budget\"].str.replace('\\W',\"\").median())\n",
    "t"
   ]
  },
  {
   "cell_type": "markdown",
   "id": "6d14703e",
   "metadata": {},
   "source": [
    "The median budget is **150 000 000$**"
   ]
  },
  {
   "cell_type": "markdown",
   "id": "24568e23",
   "metadata": {},
   "source": [
    "**3 hours were required to complete the entire exercise**"
   ]
  },
  {
   "cell_type": "code",
   "execution_count": null,
   "id": "de3e0615",
   "metadata": {},
   "outputs": [],
   "source": []
  }
 ],
 "metadata": {
  "kernelspec": {
   "display_name": "Python 3 (ipykernel)",
   "language": "python",
   "name": "python3"
  },
  "language_info": {
   "codemirror_mode": {
    "name": "ipython",
    "version": 3
   },
   "file_extension": ".py",
   "mimetype": "text/x-python",
   "name": "python",
   "nbconvert_exporter": "python",
   "pygments_lexer": "ipython3",
   "version": "3.9.13"
  }
 },
 "nbformat": 4,
 "nbformat_minor": 5
}
